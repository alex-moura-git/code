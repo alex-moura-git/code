{
 "cells": [
  {
   "cell_type": "markdown",
   "metadata": {},
   "source": [
    "The function of the preface is to get readers ready to read the book. It does so by characterizing the content and purpose of the book, identifying or even briefly describing the product the book supports, explaining the type of reader for whom the book is meant, outlining the main contents of the book, showing any special conventions or terminology used in the book, providing support and marketing numbers, and other such. In traditional book publishing, the preface comes before the table of contents; but as discussed previously in the table of contents section, technical publishing people want the TOC to come earlier in the book for usability reasons."
   ]
  },
  {
   "cell_type": "markdown",
   "metadata": {
    "ExecuteTime": {
     "end_time": "2020-09-27T14:39:11.541973Z",
     "start_time": "2020-09-27T14:39:11.538716Z"
    }
   },
   "source": [
    "## Preface"
   ]
  },
  {
   "cell_type": "markdown",
   "metadata": {},
   "source": [
    "Python has become a very popular programing language and there has been no shortage of books, videos and tutorials covering both the basics of the Python language as well as its use for Data Analysis.\n",
    "\n",
    "Before deciding to write yet another \"Data Analysis with Python\" book I question myself if the world really needed one. After reviewing the material and information available I am pretty convinced that anyone willing to explore the plethora of material available in the internet can become an expert in Data Analysis with Python, however, the fact that there is so much information available ends up making it dificult for newcomers to know where to start. Moreover, even with the right dose of determination to explore the right sources and documetation, it tends to be difficult to to find the right practical examples to put those concepts in practice.\n",
    "\n",
    "With these caveats in mind I decided to write \"Data Analysis with Python - Theory and Practice\" as an attempt to bring both the theoretical concepts of data analysis, the use of Python as well as its core data manipulation libraries as well as practical applications from the business world.\n",
    "\n",
    "My personal data analysis and business experience has been based in Enterprise Resource Planning (ERP) platforms, Finance, Treasury, Payments and Product Management and the examples are cleansed and simplified versions of challenges I dealt with in practice over the years.\n",
    "\n",
    "Given its popularity, flexibility and ease of instalation I chose the Pandas library as the main framework for Dataframe support but I believe that the concepts and techniques reviewed in this book can be easily translated into other frameworks such as Pyspark and Pytables among others."
   ]
  },
  {
   "cell_type": "markdown",
   "metadata": {
    "ExecuteTime": {
     "end_time": "2020-09-27T14:44:00.686066Z",
     "start_time": "2020-09-27T14:44:00.682990Z"
    }
   },
   "source": [
    "# Series and Dataframes"
   ]
  },
  {
   "cell_type": "code",
   "execution_count": null,
   "metadata": {},
   "outputs": [],
   "source": []
  }
 ],
 "metadata": {
  "kernelspec": {
   "display_name": "Python 3",
   "language": "python",
   "name": "python3"
  },
  "language_info": {
   "codemirror_mode": {
    "name": "ipython",
    "version": 3
   },
   "file_extension": ".py",
   "mimetype": "text/x-python",
   "name": "python",
   "nbconvert_exporter": "python",
   "pygments_lexer": "ipython3",
   "version": "3.7.6"
  },
  "toc": {
   "base_numbering": 1,
   "nav_menu": {},
   "number_sections": true,
   "sideBar": true,
   "skip_h1_title": false,
   "title_cell": "Table of Contents",
   "title_sidebar": "Contents",
   "toc_cell": false,
   "toc_position": {},
   "toc_section_display": true,
   "toc_window_display": false
  },
  "varInspector": {
   "cols": {
    "lenName": 16,
    "lenType": 16,
    "lenVar": 40
   },
   "kernels_config": {
    "python": {
     "delete_cmd_postfix": "",
     "delete_cmd_prefix": "del ",
     "library": "var_list.py",
     "varRefreshCmd": "print(var_dic_list())"
    },
    "r": {
     "delete_cmd_postfix": ") ",
     "delete_cmd_prefix": "rm(",
     "library": "var_list.r",
     "varRefreshCmd": "cat(var_dic_list()) "
    }
   },
   "types_to_exclude": [
    "module",
    "function",
    "builtin_function_or_method",
    "instance",
    "_Feature"
   ],
   "window_display": false
  }
 },
 "nbformat": 4,
 "nbformat_minor": 4
}
