{
 "cells": [
  {
   "cell_type": "code",
   "execution_count": 31,
   "metadata": {
    "ExecuteTime": {
     "end_time": "2020-09-27T12:23:44.436242Z",
     "start_time": "2020-09-27T12:23:43.550018Z"
    }
   },
   "outputs": [],
   "source": [
    "from youtube_transcript_api import YouTubeTranscriptApi\n",
    "\n"
   ]
  },
  {
   "cell_type": "code",
   "execution_count": 55,
   "metadata": {
    "ExecuteTime": {
     "end_time": "2020-09-27T12:43:17.169279Z",
     "start_time": "2020-09-27T12:43:17.163234Z"
    }
   },
   "outputs": [],
   "source": [
    "\n",
    "\n",
    "    \n",
    "def YTT(video_code, languages=['en'], print_t=False):\n",
    "    list_transcript=YouTubeTranscriptApi.get_transcript(video_code,languages=languages)\n",
    "    \n",
    "    text_transcript=''\n",
    "    for i in range(len(list_transcript)):\n",
    "        text_transcript= text_transcript + list_transcript[i]['text']+'\\n  '\n",
    "    \n",
    "    if print_t==True:\n",
    "        print(text_transcript)\n",
    "    \n",
    "    return text_transcript\n",
    "    "
   ]
  },
  {
   "cell_type": "code",
   "execution_count": 59,
   "metadata": {
    "ExecuteTime": {
     "end_time": "2020-09-27T12:43:58.551683Z",
     "start_time": "2020-09-27T12:43:57.886939Z"
    }
   },
   "outputs": [],
   "source": [
    "guido_interview=YTT('J0Aq44Pze-w')\n",
    "history_of_python=YTT('Tm5u97I7OrM')\n",
    "history_of_python2=YTT('qzN5-PbrEow')\n",
    "intro_to_pandas=YTT('_T8LGqJtuGc')\n",
    "pandas_tutorial=YTT('UB3DE5Bgfx4')\n",
    "pandas_intro=YTT('w4cZnVUTnYg')\n",
    "pandas_intro2=YTT('dcqPhpY7tWk')\n",
    "pandas_intro3=YTT('e60ItwlZTKM')\n",
    "pandas_intro3=YTT('h8b2pvBT11I')"
   ]
  },
  {
   "cell_type": "code",
   "execution_count": 105,
   "metadata": {
    "ExecuteTime": {
     "end_time": "2020-09-27T13:38:39.808028Z",
     "start_time": "2020-09-27T13:38:39.803688Z"
    }
   },
   "outputs": [],
   "source": [
    "dict_of_trasc={' Guido Interview': 'J0Aq44Pze-w', \n",
    "               'history_of_python':'Tm5u97I7OrM',\n",
    "               'history_of_python2':'qzN5-PbrEow',\n",
    "              'intro_to_pandas':'_T8LGqJtuGc',\n",
    "              'pandas_tutorial':'w4cZnVUTnYg',\n",
    "              'pandas_intro2': 'dcqPhpY7tWk', \n",
    "              'pandas_intro3':'e60ItwlZTKM',\n",
    "              'pandas_intro4':'h8b2pvBT11I'}"
   ]
  },
  {
   "cell_type": "code",
   "execution_count": 61,
   "metadata": {
    "ExecuteTime": {
     "end_time": "2020-09-27T12:44:01.332724Z",
     "start_time": "2020-09-27T12:44:00.463971Z"
    }
   },
   "outputs": [],
   "source": []
  },
  {
   "cell_type": "code",
   "execution_count": 62,
   "metadata": {
    "ExecuteTime": {
     "end_time": "2020-09-27T12:44:02.560678Z",
     "start_time": "2020-09-27T12:44:01.870286Z"
    }
   },
   "outputs": [],
   "source": []
  },
  {
   "cell_type": "code",
   "execution_count": 63,
   "metadata": {
    "ExecuteTime": {
     "end_time": "2020-09-27T12:44:03.908804Z",
     "start_time": "2020-09-27T12:44:03.120796Z"
    }
   },
   "outputs": [],
   "source": []
  },
  {
   "cell_type": "code",
   "execution_count": 64,
   "metadata": {
    "ExecuteTime": {
     "end_time": "2020-09-27T12:45:38.691898Z",
     "start_time": "2020-09-27T12:45:37.969617Z"
    }
   },
   "outputs": [],
   "source": []
  },
  {
   "cell_type": "code",
   "execution_count": 65,
   "metadata": {
    "ExecuteTime": {
     "end_time": "2020-09-27T12:47:00.241403Z",
     "start_time": "2020-09-27T12:46:58.918287Z"
    }
   },
   "outputs": [],
   "source": []
  },
  {
   "cell_type": "code",
   "execution_count": 66,
   "metadata": {
    "ExecuteTime": {
     "end_time": "2020-09-27T12:47:42.581291Z",
     "start_time": "2020-09-27T12:47:41.920539Z"
    }
   },
   "outputs": [],
   "source": []
  },
  {
   "cell_type": "code",
   "execution_count": 68,
   "metadata": {
    "ExecuteTime": {
     "end_time": "2020-09-27T12:49:10.120651Z",
     "start_time": "2020-09-27T12:49:09.327949Z"
    }
   },
   "outputs": [],
   "source": []
  },
  {
   "cell_type": "code",
   "execution_count": 106,
   "metadata": {
    "ExecuteTime": {
     "end_time": "2020-09-27T13:38:45.092766Z",
     "start_time": "2020-09-27T13:38:45.087456Z"
    }
   },
   "outputs": [],
   "source": [
    "def YTT_table(video_code_dict):\n",
    "    df=pd.DataFrame(list(video_code_dict.items()), columns=['video_desc', 'video_code'])\n",
    "    \n",
    "    df['transcript']=df['video_code'].apply(lambda x: YTT(x))\n",
    "    \n",
    "    return df"
   ]
  },
  {
   "cell_type": "code",
   "execution_count": 107,
   "metadata": {
    "ExecuteTime": {
     "end_time": "2020-09-27T13:39:20.905959Z",
     "start_time": "2020-09-27T13:39:15.088689Z"
    }
   },
   "outputs": [],
   "source": [
    "tt=summaries(dict_of_trasc)"
   ]
  },
  {
   "cell_type": "code",
   "execution_count": 110,
   "metadata": {
    "ExecuteTime": {
     "end_time": "2020-09-27T13:44:02.452603Z",
     "start_time": "2020-09-27T13:44:02.358794Z"
    }
   },
   "outputs": [],
   "source": [
    "tt.to_excel('python_pandas_transcripts.xlsx')"
   ]
  },
  {
   "cell_type": "code",
   "execution_count": 115,
   "metadata": {
    "ExecuteTime": {
     "end_time": "2020-09-27T13:45:52.030242Z",
     "start_time": "2020-09-27T13:45:52.017205Z"
    }
   },
   "outputs": [
    {
     "name": "stdout",
     "output_type": "stream",
     "text": [
      "I'm Dutch I grew up in the Netherlands\n",
      "  in fact I created Python while I was\n",
      "  working in the Netherlands\n",
      "  I got a nice job as a programmer at a\n",
      "  place called CWI which is a sort of a\n",
      "  research lab funded by the government\n",
      "  doing advanced math and computer science\n",
      "  research my first job was on a team that\n",
      "  worked on a programming language named\n",
      "  ABC and it was a super interesting\n",
      "  project and everything I know about\n",
      "  language design or all my opinions about\n",
      "  language design originated in that\n",
      "  project ABC was eventually unsuccessful\n",
      "  and I moved on to programming on other\n",
      "  projects at the same place the key one\n",
      "  was amoeba which was a distributed\n",
      "  system that was being built\n",
      "  collaboratively by CWI and one of the\n",
      "  universities in amsterdam at some point\n",
      "  I realized every application we have to\n",
      "  write in for amoeba is basically a shell\n",
      "  either a shell script or a C program and\n",
      "  I found that there were downsides to\n",
      "  either of those and I thought well I\n",
      "  wish there was a third language that was\n",
      "  sort of in the middle of those that felt\n",
      "  more like a genuine programming language\n",
      "  like on the sea side but that was\n",
      "  perhaps interpreted easier to use sort\n",
      "  of\n",
      "  more concise of expression like shell\n",
      "  scripts but without the sort of terrible\n",
      "  properties in terms of readability of\n",
      "  shell scripts I thought hmmm I can build\n",
      "  my own building an interpreter it's\n",
      "  gonna take me two or three months and\n",
      "  I'll win that time back by increased\n",
      "  productivity not just for myself but for\n",
      "  the whole team well those three months\n",
      "  sort of bloomed to more and more time I\n",
      "  don't think we only amoeba project we\n",
      "  ever gained that productivity back in\n",
      "  amoeba sort of mostly produced\n",
      "  scientific papers iPhones slowly became\n",
      "  successful paying about after about a\n",
      "  year we released it as open source\n",
      "  actually we didn't call it open source\n",
      "  because those terms had not been\n",
      "  invented and almost immediately a small\n",
      "  community of iPhone lovers started\n",
      "  growing where people sort of spread the\n",
      "  word about Python and sort of started\n",
      "  contributing back and critiquing each\n",
      "  other's contributions and sort of let me\n",
      "  have the last word about whether I\n",
      "  wanted a particular contribution in the\n",
      "  language last July I actually resigned\n",
      "  my position of BD FL which is ironic\n",
      "  because of the FL standing for for life\n",
      "  one imminent change is that pythons own\n",
      "  government structure is changing the\n",
      "  community is currently in the middle of\n",
      "  sort of\n",
      "  figuring out what's the best way is to\n",
      "  to sort of have governance going forward\n",
      "  which is either going to be an honor be\n",
      "  DFL although that is the less likely\n",
      "  solution more likely I see a small\n",
      "  committee of people who are committed to\n",
      "  Python success long term those people\n",
      "  will also be guiding pythons sort of\n",
      "  future vision\n",
      "  \n"
     ]
    }
   ],
   "source": [
    "print(pd.read_excel('python_pandas_transcripts.xlsx').iat[0,3])"
   ]
  },
  {
   "cell_type": "code",
   "execution_count": null,
   "metadata": {},
   "outputs": [],
   "source": []
  }
 ],
 "metadata": {
  "kernelspec": {
   "display_name": "Python 3",
   "language": "python",
   "name": "python3"
  },
  "language_info": {
   "codemirror_mode": {
    "name": "ipython",
    "version": 3
   },
   "file_extension": ".py",
   "mimetype": "text/x-python",
   "name": "python",
   "nbconvert_exporter": "python",
   "pygments_lexer": "ipython3",
   "version": "3.7.6"
  },
  "toc": {
   "base_numbering": 1,
   "nav_menu": {},
   "number_sections": true,
   "sideBar": true,
   "skip_h1_title": false,
   "title_cell": "Table of Contents",
   "title_sidebar": "Contents",
   "toc_cell": false,
   "toc_position": {},
   "toc_section_display": true,
   "toc_window_display": false
  },
  "varInspector": {
   "cols": {
    "lenName": 16,
    "lenType": 16,
    "lenVar": 40
   },
   "kernels_config": {
    "python": {
     "delete_cmd_postfix": "",
     "delete_cmd_prefix": "del ",
     "library": "var_list.py",
     "varRefreshCmd": "print(var_dic_list())"
    },
    "r": {
     "delete_cmd_postfix": ") ",
     "delete_cmd_prefix": "rm(",
     "library": "var_list.r",
     "varRefreshCmd": "cat(var_dic_list()) "
    }
   },
   "position": {
    "height": "225px",
    "left": "1094px",
    "right": "20px",
    "top": "120px",
    "width": "326px"
   },
   "types_to_exclude": [
    "module",
    "function",
    "builtin_function_or_method",
    "instance",
    "_Feature"
   ],
   "window_display": false
  }
 },
 "nbformat": 4,
 "nbformat_minor": 4
}
