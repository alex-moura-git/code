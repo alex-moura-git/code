{
 "cells": [
  {
   "cell_type": "code",
   "execution_count": 31,
   "metadata": {},
   "outputs": [],
   "source": [
    "#This just needs to be imported once\n",
    "\n",
    "import os\n",
    "import pandas as pd\n",
    "\n",
    "os.environ[\"GOOGLE_APPLICATION_CREDENTIALS\"] = \"/Users/alexmoura/Downloads/ornate-shape-217301-705704bfee84.json\"\n"
   ]
  },
  {
   "cell_type": "code",
   "execution_count": 82,
   "metadata": {},
   "outputs": [],
   "source": [
    "#This function expects a text variable and a variable with the file name. It outputs an audio mp3\n",
    "#in the same folder of the Python script\n",
    "\n",
    "def synthesize_text_or_ssml(msg, out_file_name,mode=None,out_file_path=None):\n",
    "    \"\"\"Synthesizes speech from the input string of text.\"\"\"\n",
    "    from google.cloud import texttospeech\n",
    "\n",
    "    client = texttospeech.TextToSpeechClient()\n",
    "    out_file_name=out_file_path+'/'+out_file_name+\".mp3\"\n",
    "    print(out_file_path)\n",
    "    if mode=='ssml':\n",
    "        input_text = texttospeech.SynthesisInput(ssml=msg)\n",
    "    else:\n",
    "        input_text = texttospeech.SynthesisInput(text=msg)\n",
    "\n",
    "    # Note: the voice can also be specified by name.\n",
    "    # Names of voices can be retrieved with client.list_voices().\n",
    "    voice = texttospeech.VoiceSelectionParams(\n",
    "        language_code=\"en-US\",\n",
    "        name=\"en-US-Wavenet-F\",\n",
    "        ssml_gender=texttospeech.SsmlVoiceGender.FEMALE,\n",
    "    )\n",
    "\n",
    "    audio_config = texttospeech.AudioConfig(\n",
    "        audio_encoding=texttospeech.AudioEncoding.MP3\n",
    "    )\n",
    "\n",
    "    response = client.synthesize_speech(\n",
    "        request={\"input\": input_text, \"voice\": voice, \"audio_config\": audio_config}\n",
    "    )\n",
    "\n",
    "    # The response's audio_content is binary.\n",
    "    with open(out_file_name, \"wb\") as out:\n",
    "        out.write(response.audio_content)\n",
    "        print('Audio content written to file '+out_file_name)\n"
   ]
  },
  {
   "cell_type": "code",
   "execution_count": null,
   "metadata": {},
   "outputs": [],
   "source": [
    "#This function expects a file name. It assumes that the file name is in the same folder of the script\n",
    "#It name output mp3 with the same name of the text file prefix\n",
    "\n",
    "def read_text_output_mp3(txtfilename,mode=None):\n",
    "\n",
    "    file = open(txtfilename+\".txt\")\n",
    "    line = file.read().replace(\"\\n\", \" \")\n",
    "    file.close()\n",
    "    \n",
    "\n",
    "    synthesize_text_or_ssml(line,txtfilename,mode)"
   ]
  },
  {
   "cell_type": "code",
   "execution_count": 29,
   "metadata": {},
   "outputs": [],
   "source": [
    "read_text_output_mp3('script2','ssml')\n",
    "\n",
    "\n",
    "    "
   ]
  },
  {
   "cell_type": "code",
   "execution_count": 87,
   "metadata": {},
   "outputs": [],
   "source": [
    "def synthesize_from_excel(excel_file_full_path):\n",
    "    \n",
    "    out_file_path=os.path.split(excel_file_full_path)[0]    \n",
    "    input_df=pd.read_excel(excel_file_full_path)\n",
    "    for i in range(len(input_df)) :\n",
    "        msg=input_df.loc[i]['msg']\n",
    "        out_file_name = input_df.loc[i]['out_file_name']\n",
    "        mode = input_df.loc[i]['mode']\n",
    "        synthesize_text_or_ssml(msg, out_file_name,mode,out_file_path)\n",
    "    \n",
    "\n"
   ]
  },
  {
   "cell_type": "code",
   "execution_count": 86,
   "metadata": {},
   "outputs": [
    {
     "data": {
      "text/plain": [
       "'This is audio 1'"
      ]
     },
     "execution_count": 86,
     "metadata": {},
     "output_type": "execute_result"
    }
   ],
   "source": []
  },
  {
   "cell_type": "code",
   "execution_count": 88,
   "metadata": {},
   "outputs": [
    {
     "name": "stdout",
     "output_type": "stream",
     "text": [
      "/Users/alexmoura/Downloads/new\n",
      "Audio content written to file /Users/alexmoura/Downloads/new/Audio1.mp3\n",
      "/Users/alexmoura/Downloads/new\n",
      "Audio content written to file /Users/alexmoura/Downloads/new/Audio2.mp3\n",
      "/Users/alexmoura/Downloads/new\n",
      "Audio content written to file /Users/alexmoura/Downloads/new/Audio3.mp3\n",
      "/Users/alexmoura/Downloads/new\n",
      "Audio content written to file /Users/alexmoura/Downloads/new/Ssml1.mp3\n",
      "/Users/alexmoura/Downloads/new\n",
      "Audio content written to file /Users/alexmoura/Downloads/new/Ssml2.mp3\n",
      "/Users/alexmoura/Downloads/new\n",
      "Audio content written to file /Users/alexmoura/Downloads/new/Ssml3.mp3\n"
     ]
    }
   ],
   "source": [
    "synthesize_from_excel(\"/Users/alexmoura/Downloads/new/excel.xlsx\")\n",
    "\n",
    "\n",
    "    \n",
    "\n"
   ]
  },
  {
   "cell_type": "code",
   "execution_count": 67,
   "metadata": {},
   "outputs": [],
   "source": [
    "def list_voices():\n",
    "    \"\"\"Lists the available voices.\"\"\"\n",
    "    from google.cloud import texttospeech\n",
    "\n",
    "    client = texttospeech.TextToSpeechClient()\n",
    "\n",
    "    # Performs the list voices request\n",
    "    voices = client.list_voices()\n",
    "\n",
    "    for voice in voices.voices:\n",
    "        # Display the voice's name. Example: tpc-vocoded\n",
    "        print(f\"Name: {voice.name}\")\n",
    "\n",
    "        # Display the supported language codes for this voice. Example: \"en-US\"\n",
    "        for language_code in voice.language_codes:\n",
    "            print(f\"Supported language: {language_code}\")\n",
    "\n",
    "        ssml_gender = texttospeech.SsmlVoiceGender(voice.ssml_gender)\n",
    "\n",
    "        # Display the SSML Voice Gender\n",
    "        print(f\"SSML Voice Gender: {ssml_gender.name}\")\n",
    "\n",
    "        # Display the natural sample rate hertz for this voice. Example: 24000\n",
    "        print(f\"Natural Sample Rate Hertz: {voice.natural_sample_rate_hertz}\\n\")\n"
   ]
  },
  {
   "cell_type": "code",
   "execution_count": 113,
   "metadata": {},
   "outputs": [],
   "source": [
    "#This fucnction list the voices available on Google Cloud\n",
    "def synthesize_ssml(ssml):\n",
    "    \"\"\"Synthesizes speech from the input string of ssml.\n",
    "\n",
    "    Note: ssml must be well-formed according to:\n",
    "        https://www.w3.org/TR/speech-synthesis/\n",
    "\n",
    "    Example: <speak>Hello there.</speak>\n",
    "    \"\"\"\n",
    "    from google.cloud import texttospeech\n",
    "\n",
    "    client = texttospeech.TextToSpeechClient()\n",
    "\n",
    "    input_text = texttospeech.SynthesisInput(ssml=ssml)\n",
    "\n",
    "    # Note: the voice can also be specified by name.\n",
    "    # Names of voices can be retrieved with client.list_voices().\n",
    "    voice = texttospeech.VoiceSelectionParams(\n",
    "        language_code=\"en-US\",\n",
    "        name=\"en-US-Wavenet-F\",\n",
    "        ssml_gender=texttospeech.SsmlVoiceGender.FEMALE,\n",
    "    )\n",
    "\n",
    "    audio_config = texttospeech.AudioConfig(\n",
    "        audio_encoding=texttospeech.AudioEncoding.MP3\n",
    "    )\n",
    "\n",
    "    response = client.synthesize_speech(\n",
    "        input=input_text, voice=voice, audio_config=audio_config\n",
    "    )\n",
    "\n",
    "    # The response's audio_content is binary.\n",
    "    with open(\"/Users/alexmoura/Downloads/output.mp3\", \"wb\") as out:\n",
    "        out.write(response.audio_content)\n",
    "        print('Audio content written to file \"output.mp3\"')"
   ]
  }
 ],
 "metadata": {
  "kernelspec": {
   "display_name": "Python 3",
   "language": "python",
   "name": "python3"
  },
  "language_info": {
   "codemirror_mode": {
    "name": "ipython",
    "version": 3
   },
   "file_extension": ".py",
   "mimetype": "text/x-python",
   "name": "python",
   "nbconvert_exporter": "python",
   "pygments_lexer": "ipython3",
   "version": "3.7.6"
  }
 },
 "nbformat": 4,
 "nbformat_minor": 4
}
