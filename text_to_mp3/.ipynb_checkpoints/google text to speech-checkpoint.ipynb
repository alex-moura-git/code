{
 "cells": [
  {
   "cell_type": "code",
   "execution_count": 1,
   "metadata": {},
   "outputs": [],
   "source": [
    "#This just needs to be imported once\n",
    "\n",
    "import os\n",
    "os.environ[\"GOOGLE_APPLICATION_CREDENTIALS\"] = \"/Users/alexmoura/Downloads/ornate-shape-217301-705704bfee84.json\"\n",
    "\n"
   ]
  },
  {
   "cell_type": "code",
   "execution_count": 4,
   "metadata": {},
   "outputs": [],
   "source": [
    "#This function expects a text variable and a variable with the file name. It outputs an audio mp3\n",
    "#in the same folder of the Python script\n",
    "\n",
    "def synthesize_text(text, file_name):\n",
    "    \"\"\"Synthesizes speech from the input string of text.\"\"\"\n",
    "    from google.cloud import texttospeech\n",
    "\n",
    "    client = texttospeech.TextToSpeechClient()\n",
    "    file_name=file_name+\".mp3\"\n",
    "    input_text = texttospeech.SynthesisInput(text=text)\n",
    "\n",
    "    # Note: the voice can also be specified by name.\n",
    "    # Names of voices can be retrieved with client.list_voices().\n",
    "    voice = texttospeech.VoiceSelectionParams(\n",
    "        language_code=\"en-US\",\n",
    "        name=\"en-US-Wavenet-F\",\n",
    "        ssml_gender=texttospeech.SsmlVoiceGender.FEMALE,\n",
    "    )\n",
    "\n",
    "    audio_config = texttospeech.AudioConfig(\n",
    "        audio_encoding=texttospeech.AudioEncoding.MP3\n",
    "    )\n",
    "\n",
    "    response = client.synthesize_speech(\n",
    "        request={\"input\": input_text, \"voice\": voice, \"audio_config\": audio_config}\n",
    "    )\n",
    "\n",
    "    # The response's audio_content is binary.\n",
    "    with open(file_name, \"wb\") as out:\n",
    "        out.write(response.audio_content)\n",
    "        print('Audio content written to file '+file_name)\n"
   ]
  },
  {
   "cell_type": "code",
   "execution_count": 8,
   "metadata": {},
   "outputs": [],
   "source": [
    "#This function expects a file name. It assumes that the file name is in the same folder of the script\n",
    "#It name output mp3 with the same name of the text file prefix\n",
    "\n",
    "def read_text_output_mp3(txtfilename):\n",
    "\n",
    "    file = open(txtfilename+\".txt\")\n",
    "    line = file.read().replace(\"\\n\", \" \")\n",
    "    file.close()\n",
    "    \n",
    "    \n",
    "    synthesize_text(line,txtfilename)\n",
    "    #return(txtfilename)\n",
    "    "
   ]
  },
  {
   "cell_type": "code",
   "execution_count": 9,
   "metadata": {},
   "outputs": [
    {
     "name": "stdout",
     "output_type": "stream",
     "text": [
      "Audio content written to file script1.mp3\n",
      "Audio content written to file script2.mp3\n",
      "Audio content written to file script3.mp3\n",
      "Audio content written to file script4.mp3\n",
      "Audio content written to file script5.mp3\n"
     ]
    }
   ],
   "source": [
    "read_text_output_mp3('script1')\n",
    "read_text_output_mp3('script2')\n",
    "read_text_output_mp3('script3')\n",
    "read_text_output_mp3('script4')\n",
    "read_text_output_mp3('script5')"
   ]
  },
  {
   "cell_type": "code",
   "execution_count": 67,
   "metadata": {},
   "outputs": [],
   "source": [
    "def list_voices():\n",
    "    \"\"\"Lists the available voices.\"\"\"\n",
    "    from google.cloud import texttospeech\n",
    "\n",
    "    client = texttospeech.TextToSpeechClient()\n",
    "\n",
    "    # Performs the list voices request\n",
    "    voices = client.list_voices()\n",
    "\n",
    "    for voice in voices.voices:\n",
    "        # Display the voice's name. Example: tpc-vocoded\n",
    "        print(f\"Name: {voice.name}\")\n",
    "\n",
    "        # Display the supported language codes for this voice. Example: \"en-US\"\n",
    "        for language_code in voice.language_codes:\n",
    "            print(f\"Supported language: {language_code}\")\n",
    "\n",
    "        ssml_gender = texttospeech.SsmlVoiceGender(voice.ssml_gender)\n",
    "\n",
    "        # Display the SSML Voice Gender\n",
    "        print(f\"SSML Voice Gender: {ssml_gender.name}\")\n",
    "\n",
    "        # Display the natural sample rate hertz for this voice. Example: 24000\n",
    "        print(f\"Natural Sample Rate Hertz: {voice.natural_sample_rate_hertz}\\n\")\n"
   ]
  },
  {
   "cell_type": "code",
   "execution_count": 113,
   "metadata": {},
   "outputs": [],
   "source": [
    "#This fucnction list the voices available on Google Cloud\n",
    "def synthesize_ssml(ssml):\n",
    "    \"\"\"Synthesizes speech from the input string of ssml.\n",
    "\n",
    "    Note: ssml must be well-formed according to:\n",
    "        https://www.w3.org/TR/speech-synthesis/\n",
    "\n",
    "    Example: <speak>Hello there.</speak>\n",
    "    \"\"\"\n",
    "    from google.cloud import texttospeech\n",
    "\n",
    "    client = texttospeech.TextToSpeechClient()\n",
    "\n",
    "    input_text = texttospeech.SynthesisInput(ssml=ssml)\n",
    "\n",
    "    # Note: the voice can also be specified by name.\n",
    "    # Names of voices can be retrieved with client.list_voices().\n",
    "    voice = texttospeech.VoiceSelectionParams(\n",
    "        language_code=\"en-US\",\n",
    "        name=\"en-US-Wavenet-F\",\n",
    "        ssml_gender=texttospeech.SsmlVoiceGender.FEMALE,\n",
    "    )\n",
    "\n",
    "    audio_config = texttospeech.AudioConfig(\n",
    "        audio_encoding=texttospeech.AudioEncoding.MP3\n",
    "    )\n",
    "\n",
    "    response = client.synthesize_speech(\n",
    "        input=input_text, voice=voice, audio_config=audio_config\n",
    "    )\n",
    "\n",
    "    # The response's audio_content is binary.\n",
    "    with open(\"/Users/alexmoura/Downloads/output.mp3\", \"wb\") as out:\n",
    "        out.write(response.audio_content)\n",
    "        print('Audio content written to file \"output.mp3\"')"
   ]
  }
 ],
 "metadata": {
  "kernelspec": {
   "display_name": "Python 3",
   "language": "python",
   "name": "python3"
  },
  "language_info": {
   "codemirror_mode": {
    "name": "ipython",
    "version": 3
   },
   "file_extension": ".py",
   "mimetype": "text/x-python",
   "name": "python",
   "nbconvert_exporter": "python",
   "pygments_lexer": "ipython3",
   "version": "3.7.6"
  }
 },
 "nbformat": 4,
 "nbformat_minor": 4
}
