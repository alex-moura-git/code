{
 "cells": [
  {
   "cell_type": "markdown",
   "metadata": {
    "toc": true
   },
   "source": [
    "<h1>Table of Contents<span class=\"tocSkip\"></span></h1>\n",
    "<div class=\"toc\"><ul class=\"toc-item\"><li><ul class=\"toc-item\"><li><span><a href=\"#Preface\" data-toc-modified-id=\"Preface-0.1\"><span class=\"toc-item-num\">0.1&nbsp;&nbsp;</span>Preface</a></span></li><li><span><a href=\"#Book-Organization\" data-toc-modified-id=\"Book-Organization-0.2\"><span class=\"toc-item-num\">0.2&nbsp;&nbsp;</span>Book Organization</a></span></li><li><span><a href=\"#How-to-Use-this-book\" data-toc-modified-id=\"How-to-Use-this-book-0.3\"><span class=\"toc-item-num\">0.3&nbsp;&nbsp;</span>How to Use this book</a></span></li></ul></li><li><span><a href=\"#Chapter-1---Introduction-to-Python,-Pandas-and-Jupyter\" data-toc-modified-id=\"Chapter-1---Introduction-to-Python,-Pandas-and-Jupyter-1\"><span class=\"toc-item-num\">1&nbsp;&nbsp;</span>Chapter 1 - Introduction to Python, Pandas and Jupyter</a></span><ul class=\"toc-item\"><li><span><a href=\"#Getting-Set-Up\" data-toc-modified-id=\"Getting-Set-Up-1.1\"><span class=\"toc-item-num\">1.1&nbsp;&nbsp;</span>Getting Set Up</a></span><ul class=\"toc-item\"><li><span><a href=\"#Anaconda\" data-toc-modified-id=\"Anaconda-1.1.1\"><span class=\"toc-item-num\">1.1.1&nbsp;&nbsp;</span>Anaconda</a></span></li><li><span><a href=\"#Jupyter\" data-toc-modified-id=\"Jupyter-1.1.2\"><span class=\"toc-item-num\">1.1.2&nbsp;&nbsp;</span>Jupyter</a></span></li><li><span><a href=\"#Pandas\" data-toc-modified-id=\"Pandas-1.1.3\"><span class=\"toc-item-num\">1.1.3&nbsp;&nbsp;</span>Pandas</a></span></li></ul></li><li><span><a href=\"#Brief-History-of-Python\" data-toc-modified-id=\"Brief-History-of-Python-1.2\"><span class=\"toc-item-num\">1.2&nbsp;&nbsp;</span>Brief History of Python</a></span></li><li><span><a href=\"#Python-Fundamentals\" data-toc-modified-id=\"Python-Fundamentals-1.3\"><span class=\"toc-item-num\">1.3&nbsp;&nbsp;</span>Python Fundamentals</a></span></li><li><span><a href=\"#Brief-History-of-Pandas\" data-toc-modified-id=\"Brief-History-of-Pandas-1.4\"><span class=\"toc-item-num\">1.4&nbsp;&nbsp;</span>Brief History of Pandas</a></span></li><li><span><a href=\"#Pandas-Fundamentals\" data-toc-modified-id=\"Pandas-Fundamentals-1.5\"><span class=\"toc-item-num\">1.5&nbsp;&nbsp;</span>Pandas Fundamentals</a></span><ul class=\"toc-item\"><li><ul class=\"toc-item\"><li><span><a href=\"#customers\" data-toc-modified-id=\"customers-1.5.0.1\"><span class=\"toc-item-num\">1.5.0.1&nbsp;&nbsp;</span>customers</a></span></li><li><span><a href=\"#categories\" data-toc-modified-id=\"categories-1.5.0.2\"><span class=\"toc-item-num\">1.5.0.2&nbsp;&nbsp;</span>categories</a></span></li><li><span><a href=\"#products\" data-toc-modified-id=\"products-1.5.0.3\"><span class=\"toc-item-num\">1.5.0.3&nbsp;&nbsp;</span>products</a></span></li></ul></li></ul></li></ul></li></ul></div>"
   ]
  },
  {
   "cell_type": "markdown",
   "metadata": {},
   "source": [
    "The function of the preface is to get readers ready to read the book. It does so by characterizing the content and purpose of the book, identifying or even briefly describing the product the book supports, explaining the type of reader for whom the book is meant, outlining the main contents of the book, showing any special conventions or terminology used in the book, providing support and marketing numbers, and other such. In traditional book publishing, the preface comes before the table of contents; but as discussed previously in the table of contents section, technical publishing people want the TOC to come earlier in the book for usability reasons.\n",
    "\n",
    "***"
   ]
  },
  {
   "cell_type": "code",
   "execution_count": null,
   "metadata": {
    "collapsed": true
   },
   "outputs": [],
   "source": []
  },
  {
   "cell_type": "markdown",
   "metadata": {},
   "source": [
    "## Preface\n",
    "\n",
    "Python has become a very popular programing language and there has been no shortage of books, videos and tutorials covering both the basics of the Python language as well as its use for Data Analysis.\n",
    "\n",
    "Before deciding to write yet another \"Data Analysis with Python\" book I question myself if the world really needed one. After reviewing the material and information available I am pretty convinced that anyone willing to explore the plethora of material available in the internet can become an expert in Data Analysis with Python, however, the fact that there is so much information available ends up making it dificult for newcomers to know where to start. Moreover, even with the right dose of determination to explore the right sources and documetation, it tends to be difficult to to find the right practical examples to put those concepts in practice.\n",
    "\n",
    "With these caveats in mind I decided to write \"Data Analysis with Python - Theory and Practice\" as an attempt to bring both the theoretical concepts of data analysis, the use of Python as well as its core data manipulation libraries as well as practical applications from the business world. \n",
    "\n",
    "My personal data analysis and business experience has been based in Enterprise Resource Planning (ERP) platforms, Finance, Treasury, Payments and Product Management and the examples are cleansed and simplified versions of challenges I dealt with in practice over the years.\n",
    "\n",
    "Given its popularity, flexibility and ease of instalation I chose the Pandas library as the main framework for Dataframe support but I believe that the concepts and techniques reviewed in this book can be easily translated into other frameworks such as Pyspark and Pytables among others.\n",
    "\n",
    "***\n",
    "\n"
   ]
  },
  {
   "cell_type": "markdown",
   "metadata": {},
   "source": [
    "## Book Organization\n",
    "\n",
    "In order to accomplish this objective each topic is dividing in 3 sections:\n",
    "\n",
    "    A)Theory\n",
    "        - In this section I layout the key foundational building blocks and technical concepts of the data analysis process. It's content heavily relies and expands on the Pythons and the Pandas Library documentation.\n",
    "        - It is designed to serve as a quickly scannable technical guide to Python and Pandas but by no means is meant to replace its formal documentation. Thoughout the book I constantly reffer to the fomal documentatio and well as highly reccomend the reader to further expand its knowledge by becoming familiar with its contents.\n",
    "    \n",
    "    \n",
    "    B)Business Insight\n",
    "        - This session is intended to provide examples of data analysis techniques and business concepts leveraging the knowledge acquired in section A. Learners will be able expand its knwoledge of data analysis from a practical business perspective.\n",
    "        - Though out the book we use a simulated e-ccomerce site as a case study example to cover several data analysis practical applications involving data validation, inspecton, cleaning and manipulation. \n",
    "        - Recommended to Learners looking to enhance the undertanding of the use of data analysis for business\n",
    "    C)Practice\n",
    "        - This session includes practical exercies to help the learners consolidate the concepts reviewed in section A) and B). It is divided in 3 levels:\n",
    "            - Foundational: Simple practical exercises designed re-inforce the understanding of foudational concepts\n",
    "            - Mastery: Integrated exercises designed to help you fully master the concepts covered\n",
    "            - Case Study:  Practical problems designed as a case study allowing the reader to tackle a business problem in a open ended format.\n",
    "\n",
    "***"
   ]
  },
  {
   "cell_type": "markdown",
   "metadata": {
    "heading_collapsed": true
   },
   "source": [
    "## How to Use this book\n",
    "\n",
    "This book was designed in such a way that chapters and secions do not need to be reviewed in sequence. While newcommers to data analitics and Python will most likely want to start in chapter 1 and review it in sequence, learners that already have a foundation knowledge may use this book as a refference or as a source of practice.\n",
    "\n",
    "Also, the 3 part design of the sections is intended to help make it scannable for quick passive learning reference of concepts in Section A and  B, while adopting a more hands-on quizz/tutorial stile approach in section C.\n",
    "\n",
    "***\n",
    "\n"
   ]
  },
  {
   "cell_type": "markdown",
   "metadata": {
    "ExecuteTime": {
     "end_time": "2020-09-27T14:44:00.686066Z",
     "start_time": "2020-09-27T14:44:00.682990Z"
    },
    "heading_collapsed": true
   },
   "source": [
    "# Chapter 1 - Introduction to Python, Pandas and Jupyter"
   ]
  },
  {
   "cell_type": "markdown",
   "metadata": {
    "hidden": true
   },
   "source": [
    "## Getting Set Up\n",
    "\n",
    "Python is the main anlytical tool used thoughout this book. The first step to access all Python functionality is to install or update Python in your computer.\n",
    "There are several diffent ways to perform this task: you can download and install a package directly from Python.org, instally it with multiple command line utilities or from a package manager.\n",
    "\n",
    "### Anaconda\n",
    "At the time of writing, Anaconda is the most popular Python distribution platform. Its biggest advantage is to allow an easy instalation and update of the standard Python libraries as well as other popular packages including Jupiter and the Pandas Library. Visit https://www.anaconda.com/products/individual and follow installation instructions.\n",
    "\n",
    "### Jupyter\n",
    "\n",
    "Jupyter is automatically installed with the anaconda distribution.\n",
    "All code development and exercises will use Jupyter Notebook as the IDE (Integrated Development Enviroment). You may launch Jupyter though its though the Ananconda interface or directly using your computers command line terminas. See below for additional instructions:\n",
    "\n",
    "A) Launching Jupiter thought the Anaconda user interface\n",
    "\n",
    "B) Launching Jupiter on the command line\n",
    "\n",
    "### Pandas\n",
    "Pandas was automatically installed with the anaconda distribution and you only need to import it to your code as demonstrated below."
   ]
  },
  {
   "cell_type": "code",
   "execution_count": null,
   "metadata": {
    "collapsed": true,
    "hidden": true
   },
   "outputs": [],
   "source": [
    "import pandas as pd"
   ]
  },
  {
   "cell_type": "markdown",
   "metadata": {
    "hidden": true
   },
   "source": [
    "## Brief History of Python\n",
    "\n",
    "\n",
    "***"
   ]
  },
  {
   "cell_type": "markdown",
   "metadata": {
    "heading_collapsed": true,
    "hidden": true
   },
   "source": [
    "## Python Fundamentals\n",
    "\n",
    "***"
   ]
  },
  {
   "cell_type": "markdown",
   "metadata": {
    "heading_collapsed": true,
    "hidden": true
   },
   "source": [
    "## Brief History of Pandas\n",
    "\n",
    "\n",
    "***"
   ]
  },
  {
   "cell_type": "markdown",
   "metadata": {
    "heading_collapsed": true,
    "hidden": true
   },
   "source": [
    "## Pandas Fundamentals\n",
    "\n",
    "***"
   ]
  },
  {
   "cell_type": "code",
   "execution_count": 16,
   "metadata": {
    "collapsed": true,
    "hidden": true
   },
   "outputs": [],
   "source": [
    "import pandas as pd\n",
    "import numpy as np\n",
    "import random\n",
    "from datetime import datetime as dt"
   ]
  },
  {
   "cell_type": "code",
   "execution_count": 139,
   "metadata": {
    "collapsed": true,
    "hidden": true
   },
   "outputs": [
    {
     "name": "stdout",
     "output_type": "stream",
     "text": [
      "categories.csv    order_detail.csv  products.csv\n",
      "customers.csv     orders.csv\n"
     ]
    }
   ],
   "source": [
    "ls data"
   ]
  },
  {
   "cell_type": "code",
   "execution_count": 219,
   "metadata": {
    "collapsed": true,
    "hidden": true
   },
   "outputs": [],
   "source": [
    "customers=pd.read_csv('Data/customers.csv')\n",
    "categories=pd.read_csv('Data/categories.csv')\n",
    "products=pd.read_csv('Data/products.csv')\n",
    "orders=pd.read_csv('Data/orders.csv')\n",
    "order_detail=pd.read_csv('Data/order_detail.csv')"
   ]
  },
  {
   "cell_type": "markdown",
   "metadata": {
    "hidden": true
   },
   "source": [
    "#### customers "
   ]
  },
  {
   "cell_type": "code",
   "execution_count": 220,
   "metadata": {
    "collapsed": true,
    "hidden": true
   },
   "outputs": [
    {
     "data": {
      "text/html": [
       "<div>\n",
       "<style scoped>\n",
       "    .dataframe tbody tr th:only-of-type {\n",
       "        vertical-align: middle;\n",
       "    }\n",
       "\n",
       "    .dataframe tbody tr th {\n",
       "        vertical-align: top;\n",
       "    }\n",
       "\n",
       "    .dataframe thead th {\n",
       "        text-align: right;\n",
       "    }\n",
       "</style>\n",
       "<table border=\"1\" class=\"dataframe\">\n",
       "  <thead>\n",
       "    <tr style=\"text-align: right;\">\n",
       "      <th></th>\n",
       "      <th>name</th>\n",
       "      <th>sex</th>\n",
       "      <th>customer_id</th>\n",
       "      <th>street_address</th>\n",
       "      <th>zip_code</th>\n",
       "      <th>city</th>\n",
       "      <th>state</th>\n",
       "      <th>county</th>\n",
       "      <th>country</th>\n",
       "    </tr>\n",
       "  </thead>\n",
       "  <tbody>\n",
       "    <tr>\n",
       "      <th>0</th>\n",
       "      <td>Mark Thomas</td>\n",
       "      <td>M</td>\n",
       "      <td>1</td>\n",
       "      <td>08582 Small Harbors Apt. 013</td>\n",
       "      <td>98275</td>\n",
       "      <td>Mukilteo</td>\n",
       "      <td>WA</td>\n",
       "      <td>Snohomish County</td>\n",
       "      <td>US</td>\n",
       "    </tr>\n",
       "    <tr>\n",
       "      <th>1</th>\n",
       "      <td>Justin Ramos</td>\n",
       "      <td>M</td>\n",
       "      <td>2</td>\n",
       "      <td>008 Lang Streets Apt. 502</td>\n",
       "      <td>21219</td>\n",
       "      <td>Sparrows Point</td>\n",
       "      <td>MD</td>\n",
       "      <td>Baltimore County</td>\n",
       "      <td>US</td>\n",
       "    </tr>\n",
       "    <tr>\n",
       "      <th>2</th>\n",
       "      <td>Mr. Michael Lang</td>\n",
       "      <td>M</td>\n",
       "      <td>3</td>\n",
       "      <td>315 Vernon Meadow Apt. 413</td>\n",
       "      <td>6106</td>\n",
       "      <td>Hartford</td>\n",
       "      <td>CT</td>\n",
       "      <td>Hartford County</td>\n",
       "      <td>US</td>\n",
       "    </tr>\n",
       "    <tr>\n",
       "      <th>3</th>\n",
       "      <td>Maurice Smith</td>\n",
       "      <td>M</td>\n",
       "      <td>4</td>\n",
       "      <td>4361 Hall Hills</td>\n",
       "      <td>37191</td>\n",
       "      <td>Woodlawn</td>\n",
       "      <td>TN</td>\n",
       "      <td>Montgomery County</td>\n",
       "      <td>US</td>\n",
       "    </tr>\n",
       "    <tr>\n",
       "      <th>4</th>\n",
       "      <td>Brenda Smith</td>\n",
       "      <td>F</td>\n",
       "      <td>5</td>\n",
       "      <td>663 Watson Lake Apt. 383</td>\n",
       "      <td>19388</td>\n",
       "      <td>West Chester</td>\n",
       "      <td>PA</td>\n",
       "      <td>Chester County</td>\n",
       "      <td>US</td>\n",
       "    </tr>\n",
       "    <tr>\n",
       "      <th>5</th>\n",
       "      <td>April Steele</td>\n",
       "      <td>F</td>\n",
       "      <td>6</td>\n",
       "      <td>047 Carpenter Lakes</td>\n",
       "      <td>12537</td>\n",
       "      <td>Hughsonville</td>\n",
       "      <td>NY</td>\n",
       "      <td>Dutchess County</td>\n",
       "      <td>US</td>\n",
       "    </tr>\n",
       "    <tr>\n",
       "      <th>6</th>\n",
       "      <td>Max Lara</td>\n",
       "      <td>M</td>\n",
       "      <td>7</td>\n",
       "      <td>6986 Melissa Prairie</td>\n",
       "      <td>52134</td>\n",
       "      <td>Chester</td>\n",
       "      <td>IA</td>\n",
       "      <td>Howard County</td>\n",
       "      <td>US</td>\n",
       "    </tr>\n",
       "    <tr>\n",
       "      <th>7</th>\n",
       "      <td>James Cruz</td>\n",
       "      <td>M</td>\n",
       "      <td>8</td>\n",
       "      <td>177 Wilson Views</td>\n",
       "      <td>46865</td>\n",
       "      <td>Fort Wayne</td>\n",
       "      <td>IN</td>\n",
       "      <td>Allen County</td>\n",
       "      <td>US</td>\n",
       "    </tr>\n",
       "    <tr>\n",
       "      <th>8</th>\n",
       "      <td>Jessica Henry</td>\n",
       "      <td>F</td>\n",
       "      <td>9</td>\n",
       "      <td>616 Joseph Crest Suite 693</td>\n",
       "      <td>98628</td>\n",
       "      <td>Klickitat</td>\n",
       "      <td>WA</td>\n",
       "      <td>Klickitat County</td>\n",
       "      <td>US</td>\n",
       "    </tr>\n",
       "    <tr>\n",
       "      <th>9</th>\n",
       "      <td>Ashley Jones</td>\n",
       "      <td>F</td>\n",
       "      <td>10</td>\n",
       "      <td>5142 Reyes Extension Suite 167</td>\n",
       "      <td>24102</td>\n",
       "      <td>Henry</td>\n",
       "      <td>VA</td>\n",
       "      <td>Franklin County</td>\n",
       "      <td>US</td>\n",
       "    </tr>\n",
       "  </tbody>\n",
       "</table>\n",
       "</div>"
      ],
      "text/plain": [
       "               name sex  customer_id                  street_address  \\\n",
       "0       Mark Thomas   M            1    08582 Small Harbors Apt. 013   \n",
       "1      Justin Ramos   M            2       008 Lang Streets Apt. 502   \n",
       "2  Mr. Michael Lang   M            3      315 Vernon Meadow Apt. 413   \n",
       "3     Maurice Smith   M            4                 4361 Hall Hills   \n",
       "4      Brenda Smith   F            5        663 Watson Lake Apt. 383   \n",
       "5      April Steele   F            6             047 Carpenter Lakes   \n",
       "6          Max Lara   M            7            6986 Melissa Prairie   \n",
       "7        James Cruz   M            8                177 Wilson Views   \n",
       "8     Jessica Henry   F            9      616 Joseph Crest Suite 693   \n",
       "9      Ashley Jones   F           10  5142 Reyes Extension Suite 167   \n",
       "\n",
       "   zip_code            city state             county country  \n",
       "0     98275        Mukilteo    WA   Snohomish County      US  \n",
       "1     21219  Sparrows Point    MD   Baltimore County      US  \n",
       "2      6106        Hartford    CT    Hartford County      US  \n",
       "3     37191        Woodlawn    TN  Montgomery County      US  \n",
       "4     19388    West Chester    PA     Chester County      US  \n",
       "5     12537    Hughsonville    NY    Dutchess County      US  \n",
       "6     52134         Chester    IA      Howard County      US  \n",
       "7     46865      Fort Wayne    IN       Allen County      US  \n",
       "8     98628       Klickitat    WA   Klickitat County      US  \n",
       "9     24102           Henry    VA    Franklin County      US  "
      ]
     },
     "execution_count": 220,
     "metadata": {},
     "output_type": "execute_result"
    }
   ],
   "source": [
    "customers.head(10)"
   ]
  },
  {
   "cell_type": "code",
   "execution_count": 221,
   "metadata": {
    "collapsed": true,
    "hidden": true
   },
   "outputs": [
    {
     "name": "stdout",
     "output_type": "stream",
     "text": [
      "<class 'pandas.core.frame.DataFrame'>\n",
      "RangeIndex: 2345 entries, 0 to 2344\n",
      "Data columns (total 9 columns):\n",
      " #   Column          Non-Null Count  Dtype \n",
      "---  ------          --------------  ----- \n",
      " 0   name            2345 non-null   object\n",
      " 1   sex             2345 non-null   object\n",
      " 2   customer_id     2345 non-null   int64 \n",
      " 3   street_address  2345 non-null   object\n",
      " 4   zip_code        2345 non-null   int64 \n",
      " 5   city            2345 non-null   object\n",
      " 6   state           2345 non-null   object\n",
      " 7   county          2305 non-null   object\n",
      " 8   country         2345 non-null   object\n",
      "dtypes: int64(2), object(7)\n",
      "memory usage: 165.0+ KB\n"
     ]
    }
   ],
   "source": [
    "customers.info()"
   ]
  },
  {
   "cell_type": "code",
   "execution_count": 222,
   "metadata": {
    "collapsed": true,
    "hidden": true
   },
   "outputs": [
    {
     "data": {
      "text/html": [
       "<div>\n",
       "<style scoped>\n",
       "    .dataframe tbody tr th:only-of-type {\n",
       "        vertical-align: middle;\n",
       "    }\n",
       "\n",
       "    .dataframe tbody tr th {\n",
       "        vertical-align: top;\n",
       "    }\n",
       "\n",
       "    .dataframe thead th {\n",
       "        text-align: right;\n",
       "    }\n",
       "</style>\n",
       "<table border=\"1\" class=\"dataframe\">\n",
       "  <thead>\n",
       "    <tr style=\"text-align: right;\">\n",
       "      <th></th>\n",
       "      <th>sex</th>\n",
       "    </tr>\n",
       "    <tr>\n",
       "      <th>sex</th>\n",
       "      <th></th>\n",
       "    </tr>\n",
       "  </thead>\n",
       "  <tbody>\n",
       "    <tr>\n",
       "      <th>F</th>\n",
       "      <td>1115</td>\n",
       "    </tr>\n",
       "    <tr>\n",
       "      <th>M</th>\n",
       "      <td>1230</td>\n",
       "    </tr>\n",
       "  </tbody>\n",
       "</table>\n",
       "</div>"
      ],
      "text/plain": [
       "      sex\n",
       "sex      \n",
       "F    1115\n",
       "M    1230"
      ]
     },
     "execution_count": 222,
     "metadata": {},
     "output_type": "execute_result"
    }
   ],
   "source": [
    "customers.groupby(['sex']).agg({'sex':'count'})"
   ]
  },
  {
   "cell_type": "code",
   "execution_count": 223,
   "metadata": {
    "collapsed": true,
    "hidden": true
   },
   "outputs": [
    {
     "data": {
      "text/html": [
       "<div>\n",
       "<style scoped>\n",
       "    .dataframe tbody tr th:only-of-type {\n",
       "        vertical-align: middle;\n",
       "    }\n",
       "\n",
       "    .dataframe tbody tr th {\n",
       "        vertical-align: top;\n",
       "    }\n",
       "\n",
       "    .dataframe thead th {\n",
       "        text-align: right;\n",
       "    }\n",
       "</style>\n",
       "<table border=\"1\" class=\"dataframe\">\n",
       "  <thead>\n",
       "    <tr style=\"text-align: right;\">\n",
       "      <th>state</th>\n",
       "      <th>AE</th>\n",
       "      <th>AK</th>\n",
       "      <th>AL</th>\n",
       "      <th>AP</th>\n",
       "      <th>AR</th>\n",
       "      <th>AS</th>\n",
       "      <th>AZ</th>\n",
       "      <th>CA</th>\n",
       "      <th>CO</th>\n",
       "      <th>CT</th>\n",
       "      <th>...</th>\n",
       "      <th>TN</th>\n",
       "      <th>TX</th>\n",
       "      <th>UT</th>\n",
       "      <th>VA</th>\n",
       "      <th>VI</th>\n",
       "      <th>VT</th>\n",
       "      <th>WA</th>\n",
       "      <th>WI</th>\n",
       "      <th>WV</th>\n",
       "      <th>WY</th>\n",
       "    </tr>\n",
       "  </thead>\n",
       "  <tbody>\n",
       "    <tr>\n",
       "      <th>sum_of_customers</th>\n",
       "      <td>22</td>\n",
       "      <td>11</td>\n",
       "      <td>43</td>\n",
       "      <td>9</td>\n",
       "      <td>47</td>\n",
       "      <td>1</td>\n",
       "      <td>39</td>\n",
       "      <td>141</td>\n",
       "      <td>25</td>\n",
       "      <td>21</td>\n",
       "      <td>...</td>\n",
       "      <td>30</td>\n",
       "      <td>158</td>\n",
       "      <td>14</td>\n",
       "      <td>81</td>\n",
       "      <td>1</td>\n",
       "      <td>22</td>\n",
       "      <td>36</td>\n",
       "      <td>48</td>\n",
       "      <td>35</td>\n",
       "      <td>10</td>\n",
       "    </tr>\n",
       "  </tbody>\n",
       "</table>\n",
       "<p>1 rows × 58 columns</p>\n",
       "</div>"
      ],
      "text/plain": [
       "state             AE  AK  AL  AP  AR  AS  AZ   CA  CO  CT  ...  TN   TX  UT  \\\n",
       "sum_of_customers  22  11  43   9  47   1  39  141  25  21  ...  30  158  14   \n",
       "\n",
       "state             VA  VI  VT  WA  WI  WV  WY  \n",
       "sum_of_customers  81   1  22  36  48  35  10  \n",
       "\n",
       "[1 rows x 58 columns]"
      ]
     },
     "execution_count": 223,
     "metadata": {},
     "output_type": "execute_result"
    }
   ],
   "source": [
    "(\n",
    "    customers.groupby('state')\n",
    "    .agg({'state': 'count'})\n",
    "    .rename(\n",
    "    columns={'state': 'sum_of_customers'}).T\n",
    ")"
   ]
  },
  {
   "cell_type": "code",
   "execution_count": 224,
   "metadata": {
    "collapsed": true,
    "hidden": true
   },
   "outputs": [
    {
     "data": {
      "text/html": [
       "<div>\n",
       "<style scoped>\n",
       "    .dataframe tbody tr th:only-of-type {\n",
       "        vertical-align: middle;\n",
       "    }\n",
       "\n",
       "    .dataframe tbody tr th {\n",
       "        vertical-align: top;\n",
       "    }\n",
       "\n",
       "    .dataframe thead th {\n",
       "        text-align: right;\n",
       "    }\n",
       "</style>\n",
       "<table border=\"1\" class=\"dataframe\">\n",
       "  <thead>\n",
       "    <tr style=\"text-align: right;\">\n",
       "      <th>state</th>\n",
       "      <th>TX</th>\n",
       "      <th>CA</th>\n",
       "      <th>PA</th>\n",
       "      <th>NY</th>\n",
       "      <th>FL</th>\n",
       "      <th>IL</th>\n",
       "      <th>VA</th>\n",
       "      <th>MO</th>\n",
       "      <th>MI</th>\n",
       "      <th>NC</th>\n",
       "      <th>GA</th>\n",
       "      <th>OH</th>\n",
       "      <th>IA</th>\n",
       "      <th>MN</th>\n",
       "      <th>IN</th>\n",
       "      <th>KS</th>\n",
       "      <th>WI</th>\n",
       "      <th>AR</th>\n",
       "      <th>KY</th>\n",
       "      <th>OK</th>\n",
       "    </tr>\n",
       "  </thead>\n",
       "  <tbody>\n",
       "    <tr>\n",
       "      <th>sum_of_customers</th>\n",
       "      <td>158</td>\n",
       "      <td>141</td>\n",
       "      <td>141</td>\n",
       "      <td>131</td>\n",
       "      <td>93</td>\n",
       "      <td>89</td>\n",
       "      <td>81</td>\n",
       "      <td>75</td>\n",
       "      <td>71</td>\n",
       "      <td>66</td>\n",
       "      <td>65</td>\n",
       "      <td>63</td>\n",
       "      <td>60</td>\n",
       "      <td>51</td>\n",
       "      <td>51</td>\n",
       "      <td>50</td>\n",
       "      <td>48</td>\n",
       "      <td>47</td>\n",
       "      <td>45</td>\n",
       "      <td>43</td>\n",
       "    </tr>\n",
       "  </tbody>\n",
       "</table>\n",
       "</div>"
      ],
      "text/plain": [
       "state              TX   CA   PA   NY  FL  IL  VA  MO  MI  NC  GA  OH  IA  MN  \\\n",
       "sum_of_customers  158  141  141  131  93  89  81  75  71  66  65  63  60  51   \n",
       "\n",
       "state             IN  KS  WI  AR  KY  OK  \n",
       "sum_of_customers  51  50  48  47  45  43  "
      ]
     },
     "execution_count": 224,
     "metadata": {},
     "output_type": "execute_result"
    }
   ],
   "source": [
    "# Show Step by Step of chaining operation\n",
    "(\n",
    "    customers.groupby('state')\n",
    "    .agg({'state': 'count'})\n",
    "    .rename(columns={'state': 'sum_of_customers'})\n",
    "    .sort_values(by='sum_of_customers', ascending=False).head(20)\n",
    "    .T\n",
    ")"
   ]
  },
  {
   "cell_type": "markdown",
   "metadata": {
    "hidden": true
   },
   "source": [
    "#### categories"
   ]
  },
  {
   "cell_type": "code",
   "execution_count": 225,
   "metadata": {
    "collapsed": true,
    "hidden": true
   },
   "outputs": [
    {
     "data": {
      "text/html": [
       "<div>\n",
       "<style scoped>\n",
       "    .dataframe tbody tr th:only-of-type {\n",
       "        vertical-align: middle;\n",
       "    }\n",
       "\n",
       "    .dataframe tbody tr th {\n",
       "        vertical-align: top;\n",
       "    }\n",
       "\n",
       "    .dataframe thead th {\n",
       "        text-align: right;\n",
       "    }\n",
       "</style>\n",
       "<table border=\"1\" class=\"dataframe\">\n",
       "  <thead>\n",
       "    <tr style=\"text-align: right;\">\n",
       "      <th></th>\n",
       "      <th>category_id</th>\n",
       "      <th>category_name</th>\n",
       "    </tr>\n",
       "  </thead>\n",
       "  <tbody>\n",
       "    <tr>\n",
       "      <th>0</th>\n",
       "      <td>1</td>\n",
       "      <td>Appliances</td>\n",
       "    </tr>\n",
       "    <tr>\n",
       "      <th>1</th>\n",
       "      <td>2</td>\n",
       "      <td>Apps &amp; Games</td>\n",
       "    </tr>\n",
       "    <tr>\n",
       "      <th>2</th>\n",
       "      <td>3</td>\n",
       "      <td>Arts, Crafts, &amp; Sewing</td>\n",
       "    </tr>\n",
       "    <tr>\n",
       "      <th>3</th>\n",
       "      <td>4</td>\n",
       "      <td>Automotive Parts &amp; Accessories</td>\n",
       "    </tr>\n",
       "    <tr>\n",
       "      <th>4</th>\n",
       "      <td>5</td>\n",
       "      <td>Baby</td>\n",
       "    </tr>\n",
       "    <tr>\n",
       "      <th>5</th>\n",
       "      <td>6</td>\n",
       "      <td>Beauty &amp; Personal Care</td>\n",
       "    </tr>\n",
       "    <tr>\n",
       "      <th>6</th>\n",
       "      <td>7</td>\n",
       "      <td>Books</td>\n",
       "    </tr>\n",
       "    <tr>\n",
       "      <th>7</th>\n",
       "      <td>8</td>\n",
       "      <td>CDs &amp; Vinyl</td>\n",
       "    </tr>\n",
       "    <tr>\n",
       "      <th>8</th>\n",
       "      <td>9</td>\n",
       "      <td>Cell Phones &amp; Accessories</td>\n",
       "    </tr>\n",
       "    <tr>\n",
       "      <th>9</th>\n",
       "      <td>10</td>\n",
       "      <td>Clothing, Shoes and Jewelry</td>\n",
       "    </tr>\n",
       "    <tr>\n",
       "      <th>10</th>\n",
       "      <td>11</td>\n",
       "      <td>Collectibles &amp; Fine Art</td>\n",
       "    </tr>\n",
       "    <tr>\n",
       "      <th>11</th>\n",
       "      <td>12</td>\n",
       "      <td>Computers</td>\n",
       "    </tr>\n",
       "    <tr>\n",
       "      <th>12</th>\n",
       "      <td>13</td>\n",
       "      <td>Electronics</td>\n",
       "    </tr>\n",
       "    <tr>\n",
       "      <th>13</th>\n",
       "      <td>14</td>\n",
       "      <td>Garden &amp; Outdoor</td>\n",
       "    </tr>\n",
       "    <tr>\n",
       "      <th>14</th>\n",
       "      <td>15</td>\n",
       "      <td>Grocery &amp; Gourmet Food</td>\n",
       "    </tr>\n",
       "    <tr>\n",
       "      <th>15</th>\n",
       "      <td>16</td>\n",
       "      <td>Handmade</td>\n",
       "    </tr>\n",
       "    <tr>\n",
       "      <th>16</th>\n",
       "      <td>17</td>\n",
       "      <td>Health, Household &amp; Baby Care</td>\n",
       "    </tr>\n",
       "    <tr>\n",
       "      <th>17</th>\n",
       "      <td>18</td>\n",
       "      <td>Home &amp; Kitchen</td>\n",
       "    </tr>\n",
       "    <tr>\n",
       "      <th>18</th>\n",
       "      <td>19</td>\n",
       "      <td>Industrial &amp; Scientific</td>\n",
       "    </tr>\n",
       "    <tr>\n",
       "      <th>19</th>\n",
       "      <td>20</td>\n",
       "      <td>Luggage &amp; Travel Gear</td>\n",
       "    </tr>\n",
       "    <tr>\n",
       "      <th>20</th>\n",
       "      <td>21</td>\n",
       "      <td>Movies &amp; TV</td>\n",
       "    </tr>\n",
       "    <tr>\n",
       "      <th>21</th>\n",
       "      <td>22</td>\n",
       "      <td>Musical Instruments</td>\n",
       "    </tr>\n",
       "    <tr>\n",
       "      <th>22</th>\n",
       "      <td>23</td>\n",
       "      <td>Office Products</td>\n",
       "    </tr>\n",
       "    <tr>\n",
       "      <th>23</th>\n",
       "      <td>24</td>\n",
       "      <td>Pet Supplies</td>\n",
       "    </tr>\n",
       "    <tr>\n",
       "      <th>24</th>\n",
       "      <td>25</td>\n",
       "      <td>Premium Beauty</td>\n",
       "    </tr>\n",
       "    <tr>\n",
       "      <th>25</th>\n",
       "      <td>26</td>\n",
       "      <td>Sports &amp; Outdoors</td>\n",
       "    </tr>\n",
       "    <tr>\n",
       "      <th>26</th>\n",
       "      <td>27</td>\n",
       "      <td>Tools &amp; Home Improvement</td>\n",
       "    </tr>\n",
       "    <tr>\n",
       "      <th>27</th>\n",
       "      <td>28</td>\n",
       "      <td>Toys &amp; Games</td>\n",
       "    </tr>\n",
       "    <tr>\n",
       "      <th>28</th>\n",
       "      <td>29</td>\n",
       "      <td>Video Games</td>\n",
       "    </tr>\n",
       "  </tbody>\n",
       "</table>\n",
       "</div>"
      ],
      "text/plain": [
       "    category_id                   category_name\n",
       "0             1                      Appliances\n",
       "1             2                    Apps & Games\n",
       "2             3          Arts, Crafts, & Sewing\n",
       "3             4  Automotive Parts & Accessories\n",
       "4             5                            Baby\n",
       "5             6          Beauty & Personal Care\n",
       "6             7                           Books\n",
       "7             8                     CDs & Vinyl\n",
       "8             9       Cell Phones & Accessories\n",
       "9            10     Clothing, Shoes and Jewelry\n",
       "10           11         Collectibles & Fine Art\n",
       "11           12                       Computers\n",
       "12           13                     Electronics\n",
       "13           14                Garden & Outdoor\n",
       "14           15          Grocery & Gourmet Food\n",
       "15           16                        Handmade\n",
       "16           17   Health, Household & Baby Care\n",
       "17           18                  Home & Kitchen\n",
       "18           19         Industrial & Scientific\n",
       "19           20           Luggage & Travel Gear\n",
       "20           21                     Movies & TV\n",
       "21           22             Musical Instruments\n",
       "22           23                 Office Products\n",
       "23           24                    Pet Supplies\n",
       "24           25                  Premium Beauty\n",
       "25           26               Sports & Outdoors\n",
       "26           27        Tools & Home Improvement\n",
       "27           28                    Toys & Games\n",
       "28           29                     Video Games"
      ]
     },
     "execution_count": 225,
     "metadata": {},
     "output_type": "execute_result"
    }
   ],
   "source": [
    "categories"
   ]
  },
  {
   "cell_type": "code",
   "execution_count": 226,
   "metadata": {
    "collapsed": true,
    "hidden": true
   },
   "outputs": [
    {
     "data": {
      "text/plain": [
       "category_id      29\n",
       "category_name    29\n",
       "dtype: int64"
      ]
     },
     "execution_count": 226,
     "metadata": {},
     "output_type": "execute_result"
    }
   ],
   "source": [
    "categories.count()"
   ]
  },
  {
   "cell_type": "markdown",
   "metadata": {
    "hidden": true
   },
   "source": [
    "#### products"
   ]
  },
  {
   "cell_type": "code",
   "execution_count": 227,
   "metadata": {
    "collapsed": true,
    "hidden": true
   },
   "outputs": [
    {
     "data": {
      "text/html": [
       "<div>\n",
       "<style scoped>\n",
       "    .dataframe tbody tr th:only-of-type {\n",
       "        vertical-align: middle;\n",
       "    }\n",
       "\n",
       "    .dataframe tbody tr th {\n",
       "        vertical-align: top;\n",
       "    }\n",
       "\n",
       "    .dataframe thead th {\n",
       "        text-align: right;\n",
       "    }\n",
       "</style>\n",
       "<table border=\"1\" class=\"dataframe\">\n",
       "  <thead>\n",
       "    <tr style=\"text-align: right;\">\n",
       "      <th></th>\n",
       "      <th>product_code</th>\n",
       "      <th>cost</th>\n",
       "      <th>msrp</th>\n",
       "      <th>product_cat_code</th>\n",
       "    </tr>\n",
       "  </thead>\n",
       "  <tbody>\n",
       "    <tr>\n",
       "      <th>0</th>\n",
       "      <td>PCOC-11542718</td>\n",
       "      <td>88</td>\n",
       "      <td>88.0</td>\n",
       "      <td>27</td>\n",
       "    </tr>\n",
       "    <tr>\n",
       "      <th>1</th>\n",
       "      <td>PCOE-42113615</td>\n",
       "      <td>51</td>\n",
       "      <td>51.0</td>\n",
       "      <td>16</td>\n",
       "    </tr>\n",
       "    <tr>\n",
       "      <th>2</th>\n",
       "      <td>PCOA-16076144</td>\n",
       "      <td>54</td>\n",
       "      <td>54.0</td>\n",
       "      <td>25</td>\n",
       "    </tr>\n",
       "    <tr>\n",
       "      <th>3</th>\n",
       "      <td>PCOC-05474067</td>\n",
       "      <td>32</td>\n",
       "      <td>32.0</td>\n",
       "      <td>9</td>\n",
       "    </tr>\n",
       "    <tr>\n",
       "      <th>4</th>\n",
       "      <td>PCOE-78734701</td>\n",
       "      <td>133</td>\n",
       "      <td>133.0</td>\n",
       "      <td>25</td>\n",
       "    </tr>\n",
       "  </tbody>\n",
       "</table>\n",
       "</div>"
      ],
      "text/plain": [
       "    product_code  cost   msrp  product_cat_code\n",
       "0  PCOC-11542718    88   88.0                27\n",
       "1  PCOE-42113615    51   51.0                16\n",
       "2  PCOA-16076144    54   54.0                25\n",
       "3  PCOC-05474067    32   32.0                 9\n",
       "4  PCOE-78734701   133  133.0                25"
      ]
     },
     "execution_count": 227,
     "metadata": {},
     "output_type": "execute_result"
    }
   ],
   "source": [
    "products.head()"
   ]
  },
  {
   "cell_type": "code",
   "execution_count": 228,
   "metadata": {
    "collapsed": true,
    "hidden": true
   },
   "outputs": [
    {
     "data": {
      "text/plain": [
       "product_code        932\n",
       "cost                932\n",
       "msrp                932\n",
       "product_cat_code    932\n",
       "dtype: int64"
      ]
     },
     "execution_count": 228,
     "metadata": {},
     "output_type": "execute_result"
    }
   ],
   "source": [
    "products.count()"
   ]
  },
  {
   "cell_type": "code",
   "execution_count": 229,
   "metadata": {
    "collapsed": true,
    "hidden": true
   },
   "outputs": [
    {
     "data": {
      "text/html": [
       "<div>\n",
       "<style scoped>\n",
       "    .dataframe tbody tr th:only-of-type {\n",
       "        vertical-align: middle;\n",
       "    }\n",
       "\n",
       "    .dataframe tbody tr th {\n",
       "        vertical-align: top;\n",
       "    }\n",
       "\n",
       "    .dataframe thead th {\n",
       "        text-align: right;\n",
       "    }\n",
       "</style>\n",
       "<table border=\"1\" class=\"dataframe\">\n",
       "  <thead>\n",
       "    <tr style=\"text-align: right;\">\n",
       "      <th></th>\n",
       "      <th>products_per_category</th>\n",
       "    </tr>\n",
       "    <tr>\n",
       "      <th>product_cat_code</th>\n",
       "      <th></th>\n",
       "    </tr>\n",
       "  </thead>\n",
       "  <tbody>\n",
       "    <tr>\n",
       "      <th>6</th>\n",
       "      <td>40</td>\n",
       "    </tr>\n",
       "    <tr>\n",
       "      <th>25</th>\n",
       "      <td>39</td>\n",
       "    </tr>\n",
       "    <tr>\n",
       "      <th>4</th>\n",
       "      <td>39</td>\n",
       "    </tr>\n",
       "    <tr>\n",
       "      <th>13</th>\n",
       "      <td>38</td>\n",
       "    </tr>\n",
       "    <tr>\n",
       "      <th>16</th>\n",
       "      <td>36</td>\n",
       "    </tr>\n",
       "    <tr>\n",
       "      <th>2</th>\n",
       "      <td>36</td>\n",
       "    </tr>\n",
       "    <tr>\n",
       "      <th>14</th>\n",
       "      <td>36</td>\n",
       "    </tr>\n",
       "    <tr>\n",
       "      <th>10</th>\n",
       "      <td>36</td>\n",
       "    </tr>\n",
       "    <tr>\n",
       "      <th>11</th>\n",
       "      <td>35</td>\n",
       "    </tr>\n",
       "    <tr>\n",
       "      <th>18</th>\n",
       "      <td>35</td>\n",
       "    </tr>\n",
       "  </tbody>\n",
       "</table>\n",
       "</div>"
      ],
      "text/plain": [
       "                  products_per_category\n",
       "product_cat_code                       \n",
       "6                                    40\n",
       "25                                   39\n",
       "4                                    39\n",
       "13                                   38\n",
       "16                                   36\n",
       "2                                    36\n",
       "14                                   36\n",
       "10                                   36\n",
       "11                                   35\n",
       "18                                   35"
      ]
     },
     "execution_count": 229,
     "metadata": {},
     "output_type": "execute_result"
    }
   ],
   "source": [
    "(\n",
    "    products.groupby('product_cat_code')\n",
    "    .agg({'product_cat_code': 'count'})\n",
    "    .rename(columns={'product_cat_code': 'products_per_category'})\n",
    "    .sort_values(by='products_per_category', ascending=False)\n",
    "    .head(10)\n",
    "\n",
    ")"
   ]
  },
  {
   "cell_type": "code",
   "execution_count": 215,
   "metadata": {
    "collapsed": true,
    "hidden": true
   },
   "outputs": [
    {
     "data": {
      "text/html": [
       "<div>\n",
       "<style scoped>\n",
       "    .dataframe tbody tr th:only-of-type {\n",
       "        vertical-align: middle;\n",
       "    }\n",
       "\n",
       "    .dataframe tbody tr th {\n",
       "        vertical-align: top;\n",
       "    }\n",
       "\n",
       "    .dataframe thead th {\n",
       "        text-align: right;\n",
       "    }\n",
       "</style>\n",
       "<table border=\"1\" class=\"dataframe\">\n",
       "  <thead>\n",
       "    <tr style=\"text-align: right;\">\n",
       "      <th></th>\n",
       "      <th>products_per_category</th>\n",
       "    </tr>\n",
       "    <tr>\n",
       "      <th>product_cat_code</th>\n",
       "      <th></th>\n",
       "    </tr>\n",
       "  </thead>\n",
       "  <tbody>\n",
       "    <tr>\n",
       "      <th>11</th>\n",
       "      <td>102</td>\n",
       "    </tr>\n",
       "    <tr>\n",
       "      <th>10</th>\n",
       "      <td>100</td>\n",
       "    </tr>\n",
       "    <tr>\n",
       "      <th>22</th>\n",
       "      <td>99</td>\n",
       "    </tr>\n",
       "    <tr>\n",
       "      <th>9</th>\n",
       "      <td>98</td>\n",
       "    </tr>\n",
       "    <tr>\n",
       "      <th>8</th>\n",
       "      <td>96</td>\n",
       "    </tr>\n",
       "    <tr>\n",
       "      <th>6</th>\n",
       "      <td>96</td>\n",
       "    </tr>\n",
       "    <tr>\n",
       "      <th>25</th>\n",
       "      <td>96</td>\n",
       "    </tr>\n",
       "    <tr>\n",
       "      <th>29</th>\n",
       "      <td>93</td>\n",
       "    </tr>\n",
       "    <tr>\n",
       "      <th>1</th>\n",
       "      <td>87</td>\n",
       "    </tr>\n",
       "    <tr>\n",
       "      <th>16</th>\n",
       "      <td>84</td>\n",
       "    </tr>\n",
       "  </tbody>\n",
       "</table>\n",
       "</div>"
      ],
      "text/plain": [
       "                  products_per_category\n",
       "product_cat_code                       \n",
       "11                                  102\n",
       "10                                  100\n",
       "22                                   99\n",
       "9                                    98\n",
       "8                                    96\n",
       "6                                    96\n",
       "25                                   96\n",
       "29                                   93\n",
       "1                                    87\n",
       "16                                   84"
      ]
     },
     "execution_count": 215,
     "metadata": {},
     "output_type": "execute_result"
    }
   ],
   "source": [
    "(\n",
    "    products.groupby('product_cat_code')\n",
    "    .agg({'product_cat_code': 'count'})\n",
    "    .rename(columns={'product_cat_code': 'products_per_category'})\n",
    "    .sort_values(by='products_per_category', ascending=False)\n",
    "    .tail(10)\n",
    ")"
   ]
  },
  {
   "cell_type": "code",
   "execution_count": 216,
   "metadata": {
    "collapsed": true,
    "hidden": true
   },
   "outputs": [
    {
     "ename": "NameError",
     "evalue": "name 'orders' is not defined",
     "output_type": "error",
     "traceback": [
      "\u001b[0;31m---------------------------------------------------------------------------\u001b[0m",
      "\u001b[0;31mNameError\u001b[0m                                 Traceback (most recent call last)",
      "\u001b[0;32m<ipython-input-216-7651accba901>\u001b[0m in \u001b[0;36m<module>\u001b[0;34m\u001b[0m\n\u001b[0;32m----> 1\u001b[0;31m \u001b[0morders\u001b[0m\u001b[0;34m\u001b[0m\u001b[0;34m\u001b[0m\u001b[0m\n\u001b[0m",
      "\u001b[0;31mNameError\u001b[0m: name 'orders' is not defined"
     ]
    }
   ],
   "source": [
    "orders"
   ]
  },
  {
   "cell_type": "code",
   "execution_count": null,
   "metadata": {
    "collapsed": true,
    "hidden": true
   },
   "outputs": [],
   "source": []
  },
  {
   "cell_type": "code",
   "execution_count": null,
   "metadata": {
    "collapsed": true,
    "hidden": true
   },
   "outputs": [],
   "source": []
  },
  {
   "cell_type": "code",
   "execution_count": null,
   "metadata": {
    "collapsed": true,
    "hidden": true
   },
   "outputs": [],
   "source": []
  },
  {
   "cell_type": "code",
   "execution_count": null,
   "metadata": {
    "collapsed": true,
    "hidden": true
   },
   "outputs": [],
   "source": []
  },
  {
   "cell_type": "code",
   "execution_count": null,
   "metadata": {
    "collapsed": true,
    "hidden": true
   },
   "outputs": [],
   "source": []
  },
  {
   "cell_type": "code",
   "execution_count": null,
   "metadata": {
    "collapsed": true,
    "hidden": true
   },
   "outputs": [],
   "source": []
  },
  {
   "cell_type": "code",
   "execution_count": null,
   "metadata": {
    "collapsed": true,
    "hidden": true
   },
   "outputs": [],
   "source": []
  },
  {
   "cell_type": "code",
   "execution_count": null,
   "metadata": {
    "collapsed": true,
    "hidden": true
   },
   "outputs": [],
   "source": []
  },
  {
   "cell_type": "code",
   "execution_count": null,
   "metadata": {
    "collapsed": true,
    "hidden": true
   },
   "outputs": [],
   "source": []
  },
  {
   "cell_type": "code",
   "execution_count": 32,
   "metadata": {
    "collapsed": true,
    "hidden": true
   },
   "outputs": [],
   "source": []
  },
  {
   "cell_type": "code",
   "execution_count": 10,
   "metadata": {
    "collapsed": true,
    "hidden": true
   },
   "outputs": [],
   "source": [
    "\n"
   ]
  },
  {
   "cell_type": "code",
   "execution_count": null,
   "metadata": {
    "collapsed": true,
    "hidden": true
   },
   "outputs": [],
   "source": []
  },
  {
   "cell_type": "code",
   "execution_count": 100,
   "metadata": {
    "collapsed": true,
    "hidden": true
   },
   "outputs": [],
   "source": []
  },
  {
   "cell_type": "code",
   "execution_count": 101,
   "metadata": {
    "collapsed": true,
    "hidden": true
   },
   "outputs": [],
   "source": []
  },
  {
   "cell_type": "code",
   "execution_count": 102,
   "metadata": {
    "collapsed": true,
    "hidden": true
   },
   "outputs": [],
   "source": []
  },
  {
   "cell_type": "code",
   "execution_count": 142,
   "metadata": {
    "collapsed": true,
    "hidden": true
   },
   "outputs": [],
   "source": []
  },
  {
   "cell_type": "code",
   "execution_count": 104,
   "metadata": {
    "collapsed": true,
    "hidden": true
   },
   "outputs": [],
   "source": []
  },
  {
   "cell_type": "code",
   "execution_count": 30,
   "metadata": {
    "collapsed": true,
    "hidden": true
   },
   "outputs": [],
   "source": [
    "squares = []\n",
    "for x in range(5):\n",
    "    squares.append(lambda n=x: n**2)\n"
   ]
  },
  {
   "cell_type": "code",
   "execution_count": 33,
   "metadata": {
    "hidden": true
   },
   "outputs": [
    {
     "ename": "IndexError",
     "evalue": "list index out of range",
     "output_type": "error",
     "traceback": [
      "\u001b[0;31m---------------------------------------------------------------------------\u001b[0m",
      "\u001b[0;31mIndexError\u001b[0m                                Traceback (most recent call last)",
      "\u001b[0;32m<ipython-input-33-9bfec0a4adf5>\u001b[0m in \u001b[0;36m<module>\u001b[0;34m\u001b[0m\n\u001b[0;32m----> 1\u001b[0;31m \u001b[0msquares\u001b[0m\u001b[0;34m[\u001b[0m\u001b[0;36m10\u001b[0m\u001b[0;34m]\u001b[0m\u001b[0;34m\u001b[0m\u001b[0;34m\u001b[0m\u001b[0m\n\u001b[0m",
      "\u001b[0;31mIndexError\u001b[0m: list index out of range"
     ]
    }
   ],
   "source": [
    "squares[10]"
   ]
  },
  {
   "cell_type": "code",
   "execution_count": null,
   "metadata": {
    "collapsed": true,
    "hidden": true
   },
   "outputs": [],
   "source": []
  },
  {
   "cell_type": "code",
   "execution_count": null,
   "metadata": {
    "collapsed": true,
    "hidden": true
   },
   "outputs": [],
   "source": []
  },
  {
   "cell_type": "code",
   "execution_count": null,
   "metadata": {
    "collapsed": true,
    "hidden": true
   },
   "outputs": [],
   "source": []
  },
  {
   "cell_type": "code",
   "execution_count": null,
   "metadata": {
    "collapsed": true,
    "hidden": true
   },
   "outputs": [],
   "source": []
  },
  {
   "cell_type": "code",
   "execution_count": null,
   "metadata": {
    "collapsed": true,
    "hidden": true
   },
   "outputs": [],
   "source": []
  },
  {
   "cell_type": "code",
   "execution_count": null,
   "metadata": {
    "collapsed": true,
    "hidden": true
   },
   "outputs": [],
   "source": []
  },
  {
   "cell_type": "code",
   "execution_count": null,
   "metadata": {
    "collapsed": true,
    "hidden": true
   },
   "outputs": [],
   "source": []
  },
  {
   "cell_type": "code",
   "execution_count": null,
   "metadata": {
    "collapsed": true,
    "hidden": true
   },
   "outputs": [],
   "source": []
  },
  {
   "cell_type": "code",
   "execution_count": null,
   "metadata": {
    "collapsed": true,
    "hidden": true
   },
   "outputs": [],
   "source": []
  }
 ],
 "metadata": {
  "celltoolbar": "Tags",
  "kernelspec": {
   "display_name": "Python 3",
   "language": "python",
   "name": "python3"
  },
  "language_info": {
   "codemirror_mode": {
    "name": "ipython",
    "version": 3
   },
   "file_extension": ".py",
   "mimetype": "text/x-python",
   "name": "python",
   "nbconvert_exporter": "python",
   "pygments_lexer": "ipython3",
   "version": "3.7.6"
  },
  "toc": {
   "base_numbering": 1,
   "nav_menu": {},
   "number_sections": true,
   "sideBar": true,
   "skip_h1_title": false,
   "title_cell": "Table of Contents",
   "title_sidebar": "Contents",
   "toc_cell": true,
   "toc_position": {},
   "toc_section_display": true,
   "toc_window_display": false
  },
  "varInspector": {
   "cols": {
    "lenName": 16,
    "lenType": 16,
    "lenVar": 40
   },
   "kernels_config": {
    "python": {
     "delete_cmd_postfix": "",
     "delete_cmd_prefix": "del ",
     "library": "var_list.py",
     "varRefreshCmd": "print(var_dic_list())"
    },
    "r": {
     "delete_cmd_postfix": ") ",
     "delete_cmd_prefix": "rm(",
     "library": "var_list.r",
     "varRefreshCmd": "cat(var_dic_list()) "
    }
   },
   "types_to_exclude": [
    "module",
    "function",
    "builtin_function_or_method",
    "instance",
    "_Feature"
   ],
   "window_display": false
  }
 },
 "nbformat": 4,
 "nbformat_minor": 4
}
